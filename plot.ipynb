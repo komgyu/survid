{
 "cells": [
  {
   "cell_type": "code",
   "execution_count": null,
   "id": "3968fa6e",
   "metadata": {},
   "outputs": [],
   "source": [
    "%cd E:/survid\n",
    "# preamble\n",
    "import os\n",
    "import matplotlib.pyplot as plt\n",
    "import matplotlib.image as mpimg\n",
    "import numpy as np\n",
    "\n",
    "# look, whether everything is still alive\n",
    "stream = os.popen('ssh pamir \"ps -fA | grep python\"')\n",
    "output = stream.readlines()\n",
    "for str in output:\n",
    "    print(str.strip())\n",
    "\n",
    "suffixes = ['tmp']\n",
    "descr = ['base']\n",
    "nfiles = len(suffixes)\n",
    "#names = ['./logs/Cross/log-' + s + '.txt' for s in suffixes]\n",
    "names = ['./logs/Cross/val_log.txt']\n",
    "# default colors from T10-palette\n",
    "colors = ['tab:blue', 'tab:orange', 'tab:green', 'tab:red', 'tab:purple', 'tab:brown', 'tab:pink', 'tab:gray', 'tab:olive', 'tab:cyan']\n",
    "\n",
    "# load data\n",
    "data = [None] * nfiles\n",
    "for i in range(nfiles):\n",
    "    data[i] = np.loadtxt(names[i], comments='#', delimiter=' ', usecols = (1,3,5,7,9,11))\n",
    "\n",
    "# common plot parameters\n",
    "plt.rcParams.update({'font.size': 16})\n",
    "# maxx = 5000\n",
    "maxx = -1 # means no limit\n",
    "\n"
   ]
  },
  {
   "cell_type": "code",
   "execution_count": null,
   "id": "0342971a",
   "metadata": {},
   "outputs": [],
   "source": [
    "plt.rcParams[\"figure.figsize\"] = (30,8)\n",
    "fig, ax = plt.subplots(1, 4)\n",
    "\n",
    "for i in range(nfiles):\n",
    "    ax[0].plot(data[i][:,1],data[i][:,2], color=colors[i]);\n",
    "ax[0].set_ylabel('len');\n",
    "ax[0].grid(True);\n",
    "if maxx>0: ax[0].set_xlim((0, maxx));\n",
    "\n",
    "for i in range(nfiles):\n",
    "    ax[1].plot(data[i][:,1],data[i][:,3], color=colors[i]);\n",
    "if names == ['./logs/Cross/log-' + s + '.txt' for s in suffixes]:\n",
    "    ax[1].set_ylabel('3 train loss');\n",
    "else:\n",
    "    ax[1].set_ylabel('3 val loss');    \n",
    "ax[1].grid(True);\n",
    "if maxx>0: ax[1].set_xlim((0, maxx));\n",
    "\n",
    "for i in range(nfiles):\n",
    "    ax[2].plot(data[i][:,1],data[i][:,4], color=colors[i]);\n",
    "if names == ['./logs/Cross/log-' + s + '.txt' for s in suffixes]:\n",
    "    ax[2].set_ylabel('3 train accuracy');\n",
    "else:\n",
    "    ax[2].set_ylabel('3 val accuracy');\n",
    "ax[2].grid(True);\n",
    "if maxx>0: ax[2].set_xlim((0, maxx));\n",
    "\n",
    "for i in range(nfiles):\n",
    "    ax[3].plot(data[i][:,1],data[i][:,5], color=colors[i]);\n",
    "if names == ['./logs/Cross/log-' + s + '.txt' for s in suffixes]:\n",
    "    ax[3].set_ylabel('3 train IoU');\n",
    "else:\n",
    "    ax[3].set_ylabel('3 val IoU');\n",
    "    \n",
    "ax[3].grid(True);\n",
    "if maxx>0: ax[3].set_xlim((0, maxx));\n",
    "\n",
    "ax[3].legend(descr);\n",
    "\n"
   ]
  },
  {
   "cell_type": "code",
   "execution_count": null,
   "id": "5da2e324",
   "metadata": {},
   "outputs": [],
   "source": [
    "# times\n",
    "\n",
    "for i in range(nfiles):\n",
    "    num = data[i].size//5\n",
    "    last_time = data[i][num-1,0]\n",
    "    last_it = data[i][num-1,1]\n",
    "    speed = last_it/last_time\n",
    "    print(descr[i], '(it/sec):' , speed, '\\t', last_it, 'iterations')\n"
   ]
  }
 ],
 "metadata": {
  "kernelspec": {
   "display_name": "Python 3.9.7 64-bit",
   "language": "python",
   "name": "python397jvsc74a57bd07812ea015bdcee6f23a998adcdd2ef97c151c0c241b7b7070987d9313e41299d"
  },
  "language_info": {
   "codemirror_mode": {
    "name": "ipython",
    "version": 3
   },
   "file_extension": ".py",
   "mimetype": "text/x-python",
   "name": "python",
   "nbconvert_exporter": "python",
   "pygments_lexer": "ipython3",
   "version": "3.9.7"
  },
  "metadata": {
   "interpreter": {
    "hash": "7812ea015bdcee6f23a998adcdd2ef97c151c0c241b7b7070987d9313e41299d"
   }
  }
 },
 "nbformat": 4,
 "nbformat_minor": 5
}
